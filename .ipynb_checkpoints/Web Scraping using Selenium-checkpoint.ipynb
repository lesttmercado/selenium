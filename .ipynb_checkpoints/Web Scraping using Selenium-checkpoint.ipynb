{
 "cells": [
  {
   "cell_type": "code",
   "execution_count": 1,
   "id": "c268d36e-e2b0-4290-9fef-a3c65a72779b",
   "metadata": {},
   "outputs": [],
   "source": [
    "# setting the imports\n",
    "\n",
    "import os\n",
    "import requests\n",
    "from dotenv import load_dotenv\n",
    "from bs4 import BeautifulSoup\n",
    "from IPython.display import Markdown, display\n",
    "from openai import OpenAI\n",
    "\n",
    "from selenium import webdriver\n",
    "from selenium.webdriver.chrome.service import Service\n",
    "from selenium.webdriver.common.by import By\n",
    "from selenium.webdriver.chrome.options import Options"
   ]
  },
  {
   "cell_type": "code",
   "execution_count": 2,
   "id": "d0acb20c-d266-4eed-9a3a-0233647a9f40",
   "metadata": {},
   "outputs": [],
   "source": [
    "load_dotenv()\n",
    "os.environ['OPENAI_API_KEY'] = os.getenv('OPENAI_API_KEY','your-key-if-not-using-env')\n",
    "openai = OpenAI()"
   ]
  },
  {
   "cell_type": "code",
   "execution_count": 3,
   "id": "87aa4361-1d4c-48da-bc72-937b3a6d62c3",
   "metadata": {},
   "outputs": [],
   "source": [
    "system_prompt = \"You are an assistant that analyzes the contents of a website \\\n",
    "and provides a short summary, ignoring text that might be navigation related. \\\n",
    "Respond in markdown.\""
   ]
  },
  {
   "cell_type": "code",
   "execution_count": 10,
   "id": "de0bd14a-6314-4f32-a5d8-6dd29a7a7211",
   "metadata": {},
   "outputs": [],
   "source": [
    "def user_prompt_for(website):\n",
    "    user_prompt = f\"You are looking at a website titled {website.title}\"\n",
    "    user_prompt += \"The contents of this website is as follows; \\\n",
    "please provide a short summary of this website in markdown. \\\n",
    "If it includes news or announcements, then summarize these too.\\n\\n\"\n",
    "    user_prompt += website.text\n",
    "    return user_prompt"
   ]
  },
  {
   "cell_type": "code",
   "execution_count": 11,
   "id": "364ec0c5-2991-4bf3-9c3e-b6c68509a143",
   "metadata": {},
   "outputs": [],
   "source": [
    "def messages_for(website):\n",
    "    return [\n",
    "        {\"role\": \"system\", \"content\": system_prompt},\n",
    "        {\"role\": \"user\", \"content\": user_prompt_for(website)}\n",
    "    ]"
   ]
  },
  {
   "cell_type": "code",
   "execution_count": 12,
   "id": "f95422da-1829-4ec2-ba56-bfbc6d73952e",
   "metadata": {},
   "outputs": [],
   "source": [
    "def summarize(url):\n",
    "    website = Website(url)\n",
    "    response = openai.chat.completions.create(\n",
    "        model = \"gpt-4o-mini\",\n",
    "        messages = messages_for(website)\n",
    "    )\n",
    "    return response.choices[0].message.content"
   ]
  },
  {
   "cell_type": "code",
   "execution_count": 13,
   "id": "a534b036-acb9-45b4-b0cf-49088e5ddf3c",
   "metadata": {},
   "outputs": [],
   "source": [
    "def display_summary(url):\n",
    "    summary = summarize(url)\n",
    "    display(Markdown(summary))"
   ]
  },
  {
   "cell_type": "code",
   "execution_count": 14,
   "id": "acaba323-7701-4e42-b78a-e7a7147985bf",
   "metadata": {},
   "outputs": [],
   "source": [
    "# local chrome driver location\n",
    "\n",
    "PATH_TO_CHROME_DRIVER = '..\\\\chromedriver-win64\\\\chromedriver.exe'"
   ]
  },
  {
   "cell_type": "code",
   "execution_count": 15,
   "id": "55684852-b409-43e7-9d6b-62b6fbc0ad1a",
   "metadata": {},
   "outputs": [],
   "source": [
    "class Website:\n",
    "    url: str\n",
    "    title: str\n",
    "    text: str\n",
    "\n",
    "    def __init__(self, url):\n",
    "        self.url = url\n",
    "\n",
    "        options = Options()\n",
    "\n",
    "        options.add_argument(\"--no-sandbox\")\n",
    "        options.add_argument(\"--disable-dev-shm-usage\")\n",
    "\n",
    "        service = Service(PATH_TO_CHROME_DRIVER)\n",
    "        driver = webdriver.Chrome(service=service, options=options)\n",
    "        driver.get(url)\n",
    "\n",
    "        input(\"Please complete the verification in the browser and press Enter to continue...\")\n",
    "        page_source = driver.page_source\n",
    "        driver.quit()\n",
    "\n",
    "        soup = BeautifulSoup(page_source, 'html.parser')\n",
    "        self.title = soup.title.string if soup.title else \"No title found\"\n",
    "        for irrelevant in soup([\"script\", \"style\", \"img\", \"input\"]):\n",
    "            irrelevant.decompose()\n",
    "        self.text = soup.get_text(separator=\"\\n\", strip=True)"
   ]
  },
  {
   "cell_type": "code",
   "execution_count": 16,
   "id": "93cb7297-8af6-4013-84d0-ce281997216c",
   "metadata": {
    "scrolled": true
   },
   "outputs": [
    {
     "name": "stdin",
     "output_type": "stream",
     "text": [
      "Please complete the verification in the browser and press Enter to continue... \n"
     ]
    },
    {
     "data": {
      "text/markdown": [
       "# OpenAI Website Summary\n",
       "\n",
       "OpenAI is an organization committed to developing artificial general intelligence (AGI) that benefits all of humanity. The website offers insight into their research, products, safety measures, and company initiatives. \n",
       "\n",
       "## Key Features:\n",
       "- **Research:** OpenAI conducts cutting-edge research in AI, including the development of various models and safety advancements.\n",
       "- **Products:** The website highlights several AI products, including:\n",
       "  - **ChatGPT:** A versatile chatbot that can assist users in various tasks.\n",
       "  - **Sora:** A tool for generating realistic and imaginative video content from text.\n",
       "  - **ChatGPT Pro and Enterprise:** Enhanced versions of ChatGPT designed for professionals and businesses.\n",
       "  - **OpenAI o1:** A new series of AI models focused on reasoning and analytical capabilities.\n",
       "- **Safety:** OpenAI has dedicated efforts for safety and alignment to ensure responsible AI development.\n",
       "  \n",
       "## Recent News and Announcements:\n",
       "- **ChatGPT Enhancements:** Announced features where ChatGPT can now 'see, hear, and speak.'\n",
       "- **Introducing the GPT Store:** A new initiative for accessing various AI tools and resources.\n",
       "- **Partnerships:** OpenAI partnered with Apple to create new AI solutions.\n",
       "- **New Compliance Tools:** New administrative features for the ChatGPT Enterprise leading to improved governance.\n",
       "  \n",
       "The website serves as a hub for exploring OpenAI's innovations, educational resources, and the potential applications of AI across different sectors."
      ],
      "text/plain": [
       "<IPython.core.display.Markdown object>"
      ]
     },
     "metadata": {},
     "output_type": "display_data"
    }
   ],
   "source": [
    "display_summary(\"https://openai.com\")"
   ]
  }
 ],
 "metadata": {
  "kernelspec": {
   "display_name": "Python 3 (ipykernel)",
   "language": "python",
   "name": "python3"
  },
  "language_info": {
   "codemirror_mode": {
    "name": "ipython",
    "version": 3
   },
   "file_extension": ".py",
   "mimetype": "text/x-python",
   "name": "python",
   "nbconvert_exporter": "python",
   "pygments_lexer": "ipython3",
   "version": "3.11.10"
  }
 },
 "nbformat": 4,
 "nbformat_minor": 5
}
